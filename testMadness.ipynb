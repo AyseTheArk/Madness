{
 "cells": [
  {
   "cell_type": "code",
   "execution_count": 1,
   "metadata": {},
   "outputs": [],
   "source": [
    "import pandas as pd\n",
    "import numpy as np\n",
    "import seaborn as sns\n",
    "import matplotlib.pyplot as plt\n",
    "from sklearn.neighbors import KNeighborsClassifier\n",
    "from sklearn.model_selection import train_test_split\n",
    "import matplotlib.pyplot as plt\n",
    "from scipy import stats\n",
    "from scipy.stats import zscore"
   ]
  },
  {
   "cell_type": "markdown",
   "metadata": {},
   "source": [
    "# Load Data "
   ]
  },
  {
   "cell_type": "code",
   "execution_count": 11,
   "metadata": {},
   "outputs": [
    {
     "data": {
      "text/html": [
       "<div>\n",
       "<style scoped>\n",
       "    .dataframe tbody tr th:only-of-type {\n",
       "        vertical-align: middle;\n",
       "    }\n",
       "\n",
       "    .dataframe tbody tr th {\n",
       "        vertical-align: top;\n",
       "    }\n",
       "\n",
       "    .dataframe thead th {\n",
       "        text-align: right;\n",
       "    }\n",
       "</style>\n",
       "<table border=\"1\" class=\"dataframe\">\n",
       "  <thead>\n",
       "    <tr style=\"text-align: right;\">\n",
       "      <th></th>\n",
       "      <th>hours-per-week</th>\n",
       "      <th>age</th>\n",
       "      <th>capital-gain</th>\n",
       "      <th>capital-loss</th>\n",
       "      <th>workclass</th>\n",
       "      <th>education</th>\n",
       "      <th>education-num</th>\n",
       "      <th>marital-status</th>\n",
       "      <th>relationship</th>\n",
       "      <th>race</th>\n",
       "      <th>gender</th>\n",
       "      <th>native-country</th>\n",
       "      <th>income</th>\n",
       "      <th>occupation</th>\n",
       "    </tr>\n",
       "  </thead>\n",
       "  <tbody>\n",
       "    <tr>\n",
       "      <th>0</th>\n",
       "      <td>20</td>\n",
       "      <td>40</td>\n",
       "      <td>0</td>\n",
       "      <td>0</td>\n",
       "      <td>Private</td>\n",
       "      <td>Bachelors</td>\n",
       "      <td>13</td>\n",
       "      <td>Married-civ-spouse</td>\n",
       "      <td>Wife</td>\n",
       "      <td>White</td>\n",
       "      <td>Female</td>\n",
       "      <td>United-States</td>\n",
       "      <td>49100</td>\n",
       "      <td>Tech-support</td>\n",
       "    </tr>\n",
       "    <tr>\n",
       "      <th>1</th>\n",
       "      <td>40</td>\n",
       "      <td>21</td>\n",
       "      <td>0</td>\n",
       "      <td>0</td>\n",
       "      <td>Private</td>\n",
       "      <td>Some-college</td>\n",
       "      <td>10</td>\n",
       "      <td>Divorced</td>\n",
       "      <td>Own-child</td>\n",
       "      <td>White</td>\n",
       "      <td>Male</td>\n",
       "      <td>United-States</td>\n",
       "      <td>11500</td>\n",
       "      <td>Craft-repair</td>\n",
       "    </tr>\n",
       "    <tr>\n",
       "      <th>2</th>\n",
       "      <td>10</td>\n",
       "      <td>17</td>\n",
       "      <td>0</td>\n",
       "      <td>0</td>\n",
       "      <td>Private</td>\n",
       "      <td>11th</td>\n",
       "      <td>7</td>\n",
       "      <td>Never-married</td>\n",
       "      <td>Own-child</td>\n",
       "      <td>White</td>\n",
       "      <td>Male</td>\n",
       "      <td>United-States</td>\n",
       "      <td>2600</td>\n",
       "      <td>Other-service</td>\n",
       "    </tr>\n",
       "    <tr>\n",
       "      <th>3</th>\n",
       "      <td>50</td>\n",
       "      <td>51</td>\n",
       "      <td>0</td>\n",
       "      <td>0</td>\n",
       "      <td>Private</td>\n",
       "      <td>HS-grad</td>\n",
       "      <td>9</td>\n",
       "      <td>Married-civ-spouse</td>\n",
       "      <td>Husband</td>\n",
       "      <td>Asian-Pac-Islander</td>\n",
       "      <td>Male</td>\n",
       "      <td>Cambodia</td>\n",
       "      <td>38997</td>\n",
       "      <td>Sales</td>\n",
       "    </tr>\n",
       "    <tr>\n",
       "      <th>4</th>\n",
       "      <td>38</td>\n",
       "      <td>28</td>\n",
       "      <td>0</td>\n",
       "      <td>0</td>\n",
       "      <td>Private</td>\n",
       "      <td>Bachelors</td>\n",
       "      <td>13</td>\n",
       "      <td>Never-married</td>\n",
       "      <td>Not-in-family</td>\n",
       "      <td>White</td>\n",
       "      <td>Male</td>\n",
       "      <td>?</td>\n",
       "      <td>41400</td>\n",
       "      <td>Exec-managerial</td>\n",
       "    </tr>\n",
       "    <tr>\n",
       "      <th>...</th>\n",
       "      <td>...</td>\n",
       "      <td>...</td>\n",
       "      <td>...</td>\n",
       "      <td>...</td>\n",
       "      <td>...</td>\n",
       "      <td>...</td>\n",
       "      <td>...</td>\n",
       "      <td>...</td>\n",
       "      <td>...</td>\n",
       "      <td>...</td>\n",
       "      <td>...</td>\n",
       "      <td>...</td>\n",
       "      <td>...</td>\n",
       "      <td>...</td>\n",
       "    </tr>\n",
       "    <tr>\n",
       "      <th>49526</th>\n",
       "      <td>65</td>\n",
       "      <td>35</td>\n",
       "      <td>0</td>\n",
       "      <td>0</td>\n",
       "      <td>Private</td>\n",
       "      <td>Bachelors</td>\n",
       "      <td>13</td>\n",
       "      <td>Married-civ-spouse</td>\n",
       "      <td>Husband</td>\n",
       "      <td>White</td>\n",
       "      <td>Male</td>\n",
       "      <td>Yugoslavia</td>\n",
       "      <td>85080</td>\n",
       "      <td>Farming-fishing</td>\n",
       "    </tr>\n",
       "    <tr>\n",
       "      <th>49527</th>\n",
       "      <td>77</td>\n",
       "      <td>37</td>\n",
       "      <td>3137</td>\n",
       "      <td>0</td>\n",
       "      <td>Self-emp-not-inc</td>\n",
       "      <td>Bachelors</td>\n",
       "      <td>13</td>\n",
       "      <td>Married-civ-spouse</td>\n",
       "      <td>Husband</td>\n",
       "      <td>Asian-Pac-Islander</td>\n",
       "      <td>Male</td>\n",
       "      <td>Vietnam</td>\n",
       "      <td>34137</td>\n",
       "      <td>Sales</td>\n",
       "    </tr>\n",
       "    <tr>\n",
       "      <th>49528</th>\n",
       "      <td>55</td>\n",
       "      <td>24</td>\n",
       "      <td>0</td>\n",
       "      <td>0</td>\n",
       "      <td>Private</td>\n",
       "      <td>Assoc-voc</td>\n",
       "      <td>11</td>\n",
       "      <td>Never-married</td>\n",
       "      <td>Not-in-family</td>\n",
       "      <td>White</td>\n",
       "      <td>Male</td>\n",
       "      <td>United-States</td>\n",
       "      <td>13016</td>\n",
       "      <td>Sales</td>\n",
       "    </tr>\n",
       "    <tr>\n",
       "      <th>49529</th>\n",
       "      <td>40</td>\n",
       "      <td>24</td>\n",
       "      <td>0</td>\n",
       "      <td>0</td>\n",
       "      <td>Private</td>\n",
       "      <td>Some-college</td>\n",
       "      <td>10</td>\n",
       "      <td>Never-married</td>\n",
       "      <td>Not-in-family</td>\n",
       "      <td>White</td>\n",
       "      <td>Female</td>\n",
       "      <td>United-States</td>\n",
       "      <td>15000</td>\n",
       "      <td>Adm-clerical</td>\n",
       "    </tr>\n",
       "    <tr>\n",
       "      <th>49530</th>\n",
       "      <td>20</td>\n",
       "      <td>39</td>\n",
       "      <td>3464</td>\n",
       "      <td>0</td>\n",
       "      <td>State-gov</td>\n",
       "      <td>HS-grad</td>\n",
       "      <td>9</td>\n",
       "      <td>Married-civ-spouse</td>\n",
       "      <td>Wife</td>\n",
       "      <td>Asian-Pac-Islander</td>\n",
       "      <td>Female</td>\n",
       "      <td>United-States</td>\n",
       "      <td>29202</td>\n",
       "      <td>Adm-clerical</td>\n",
       "    </tr>\n",
       "  </tbody>\n",
       "</table>\n",
       "<p>49531 rows × 14 columns</p>\n",
       "</div>"
      ],
      "text/plain": [
       "       hours-per-week  age  capital-gain  capital-loss         workclass  \\\n",
       "0                  20   40             0             0           Private   \n",
       "1                  40   21             0             0           Private   \n",
       "2                  10   17             0             0           Private   \n",
       "3                  50   51             0             0           Private   \n",
       "4                  38   28             0             0           Private   \n",
       "...               ...  ...           ...           ...               ...   \n",
       "49526              65   35             0             0           Private   \n",
       "49527              77   37          3137             0  Self-emp-not-inc   \n",
       "49528              55   24             0             0           Private   \n",
       "49529              40   24             0             0           Private   \n",
       "49530              20   39          3464             0         State-gov   \n",
       "\n",
       "          education  education-num      marital-status   relationship  \\\n",
       "0         Bachelors             13  Married-civ-spouse           Wife   \n",
       "1      Some-college             10            Divorced      Own-child   \n",
       "2              11th              7       Never-married      Own-child   \n",
       "3           HS-grad              9  Married-civ-spouse        Husband   \n",
       "4         Bachelors             13       Never-married  Not-in-family   \n",
       "...             ...            ...                 ...            ...   \n",
       "49526     Bachelors             13  Married-civ-spouse        Husband   \n",
       "49527     Bachelors             13  Married-civ-spouse        Husband   \n",
       "49528     Assoc-voc             11       Never-married  Not-in-family   \n",
       "49529  Some-college             10       Never-married  Not-in-family   \n",
       "49530       HS-grad              9  Married-civ-spouse           Wife   \n",
       "\n",
       "                     race  gender native-country  income       occupation  \n",
       "0                   White  Female  United-States   49100     Tech-support  \n",
       "1                   White    Male  United-States   11500     Craft-repair  \n",
       "2                   White    Male  United-States    2600    Other-service  \n",
       "3      Asian-Pac-Islander    Male       Cambodia   38997            Sales  \n",
       "4                   White    Male              ?   41400  Exec-managerial  \n",
       "...                   ...     ...            ...     ...              ...  \n",
       "49526               White    Male     Yugoslavia   85080  Farming-fishing  \n",
       "49527  Asian-Pac-Islander    Male        Vietnam   34137            Sales  \n",
       "49528               White    Male  United-States   13016            Sales  \n",
       "49529               White  Female  United-States   15000     Adm-clerical  \n",
       "49530  Asian-Pac-Islander  Female  United-States   29202     Adm-clerical  \n",
       "\n",
       "[49531 rows x 14 columns]"
      ]
     },
     "execution_count": 11,
     "metadata": {},
     "output_type": "execute_result"
    }
   ],
   "source": [
    "df = pd.read_csv('adult_reconstruction.csv')\n",
    "df"
   ]
  },
  {
   "cell_type": "markdown",
   "metadata": {},
   "source": [
    "# Check for Missing Values"
   ]
  },
  {
   "cell_type": "code",
   "execution_count": 12,
   "metadata": {},
   "outputs": [
    {
     "data": {
      "text/plain": [
       "hours-per-week    0\n",
       "age               0\n",
       "capital-gain      0\n",
       "capital-loss      0\n",
       "workclass         0\n",
       "education         0\n",
       "education-num     0\n",
       "marital-status    0\n",
       "relationship      0\n",
       "race              0\n",
       "gender            0\n",
       "native-country    0\n",
       "income            0\n",
       "occupation        0\n",
       "dtype: int64"
      ]
     },
     "execution_count": 12,
     "metadata": {},
     "output_type": "execute_result"
    }
   ],
   "source": [
    "df.isnull().sum()"
   ]
  },
  {
   "cell_type": "markdown",
   "metadata": {},
   "source": [
    "#### There are some cells with ? in it, so we replace with nans and check the percentage of missing values."
   ]
  },
  {
   "cell_type": "code",
   "execution_count": 13,
   "metadata": {},
   "outputs": [
    {
     "data": {
      "text/plain": [
       "hours-per-week       0\n",
       "age                  0\n",
       "capital-gain         0\n",
       "capital-loss         0\n",
       "workclass         2859\n",
       "education            0\n",
       "education-num        0\n",
       "marital-status       0\n",
       "relationship         0\n",
       "race                 0\n",
       "gender               0\n",
       "native-country     859\n",
       "income               0\n",
       "occupation        2869\n",
       "dtype: int64"
      ]
     },
     "execution_count": 13,
     "metadata": {},
     "output_type": "execute_result"
    }
   ],
   "source": [
    "df.isin(['?']).sum()"
   ]
  },
  {
   "cell_type": "code",
   "execution_count": 14,
   "metadata": {},
   "outputs": [],
   "source": [
    "df['workclass'] = df['workclass'].replace('?', np.nan)\n",
    "df['occupation'] = df['occupation'].replace('?', np.nan)\n",
    "df['native-country'] = df['native-country'].replace('?', np.nan)\n"
   ]
  },
  {
   "cell_type": "code",
   "execution_count": 15,
   "metadata": {},
   "outputs": [
    {
     "name": "stdout",
     "output_type": "stream",
     "text": [
      "Percentage of the data missing =  5.7721426985120425 %, in 'workclass'  5.792332074862207 %, in 'occupation'  1.7342674284791342 %, in 'native-country'\n"
     ]
    }
   ],
   "source": [
    "perc1 = df['workclass'].isnull().sum()/len(df['workclass'])*100\n",
    "perc2 = df['occupation'].isnull().sum()/len(df['occupation'])*100\n",
    "perc3 = df['native-country'].isnull().sum()/len(df['native-country'])*100\n",
    "print(\"Percentage of the data missing = \", perc1,\"%, in 'workclass' \", perc2,\"%, in 'occupation' \", perc3,\"%, in 'native-country'\")\n"
   ]
  },
  {
   "cell_type": "code",
   "execution_count": 16,
   "metadata": {},
   "outputs": [
    {
     "data": {
      "text/plain": [
       "hours-per-week    0\n",
       "age               0\n",
       "capital-gain      0\n",
       "capital-loss      0\n",
       "workclass         0\n",
       "education         0\n",
       "education-num     0\n",
       "marital-status    0\n",
       "relationship      0\n",
       "race              0\n",
       "gender            0\n",
       "native-country    0\n",
       "income            0\n",
       "occupation        0\n",
       "dtype: int64"
      ]
     },
     "execution_count": 16,
     "metadata": {},
     "output_type": "execute_result"
    }
   ],
   "source": [
    "lenBefore = df['workclass']\n",
    "df.dropna(how='any', inplace=True)\n",
    "df.isnull().sum()"
   ]
  },
  {
   "cell_type": "code",
   "execution_count": 19,
   "metadata": {},
   "outputs": [
    {
     "data": {
      "image/png": "[encoded data removed]",
      "text/plain": [
       "<Figure size 432x288 with 1 Axes>"
      ]
     },
     "metadata": {
      "needs_background": "light"
     },
     "output_type": "display_data"
    }
   ],
   "source": [
    "lenAfter = df['workclass']\n",
    "fig = plt.figure()\n",
    "ax = fig.add_axes([0,0,1,1])\n",
    "xaxis = ['Before', 'After']\n",
    "yaxis = [len(lenBefore), len(lenAfter)]\n",
    "ax.bar(xaxis,yaxis)\n",
    "plt.title(\"Remove Missing Values for 'workclass'\")\n",
    "plt.show()"
   ]
  },
  {
   "cell_type": "code",
   "execution_count": 36,
   "metadata": {},
   "outputs": [
    {
     "data": {
      "text/plain": [
       "208"
      ]
     },
     "execution_count": 36,
     "metadata": {},
     "output_type": "execute_result"
    }
   ],
   "source": [
    "## Check if there are any duplicate rows\n",
    "df.duplicated().sum()"
   ]
  },
  {
   "cell_type": "code",
   "execution_count": 37,
   "metadata": {},
   "outputs": [],
   "source": [
    "df = df.drop_duplicates()"
   ]
  },
  {
   "cell_type": "markdown",
   "metadata": {},
   "source": [
    "# Analyze Data"
   ]
  },
  {
   "cell_type": "code",
   "execution_count": 38,
   "metadata": {},
   "outputs": [
    {
     "name": "stdout",
     "output_type": "stream",
     "text": [
      "(45641, 14)\n"
     ]
    },
    {
     "data": {
      "text/html": [
       "<div>\n",
       "<style scoped>\n",
       "    .dataframe tbody tr th:only-of-type {\n",
       "        vertical-align: middle;\n",
       "    }\n",
       "\n",
       "    .dataframe tbody tr th {\n",
       "        vertical-align: top;\n",
       "    }\n",
       "\n",
       "    .dataframe thead th {\n",
       "        text-align: right;\n",
       "    }\n",
       "</style>\n",
       "<table border=\"1\" class=\"dataframe\">\n",
       "  <thead>\n",
       "    <tr style=\"text-align: right;\">\n",
       "      <th></th>\n",
       "      <th>hours-per-week</th>\n",
       "      <th>age</th>\n",
       "      <th>capital-gain</th>\n",
       "      <th>capital-loss</th>\n",
       "      <th>education-num</th>\n",
       "      <th>income</th>\n",
       "    </tr>\n",
       "  </thead>\n",
       "  <tbody>\n",
       "    <tr>\n",
       "      <th>count</th>\n",
       "      <td>45641.000000</td>\n",
       "      <td>45641.000000</td>\n",
       "      <td>45641.000000</td>\n",
       "      <td>45641.000000</td>\n",
       "      <td>45641.00000</td>\n",
       "      <td>45641.000000</td>\n",
       "    </tr>\n",
       "    <tr>\n",
       "      <th>mean</th>\n",
       "      <td>40.915120</td>\n",
       "      <td>38.487566</td>\n",
       "      <td>1080.570759</td>\n",
       "      <td>87.546307</td>\n",
       "      <td>10.10438</td>\n",
       "      <td>34417.740606</td>\n",
       "    </tr>\n",
       "    <tr>\n",
       "      <th>std</th>\n",
       "      <td>11.966191</td>\n",
       "      <td>13.211451</td>\n",
       "      <td>7426.000706</td>\n",
       "      <td>402.596785</td>\n",
       "      <td>2.54683</td>\n",
       "      <td>26870.885616</td>\n",
       "    </tr>\n",
       "    <tr>\n",
       "      <th>min</th>\n",
       "      <td>1.000000</td>\n",
       "      <td>17.000000</td>\n",
       "      <td>0.000000</td>\n",
       "      <td>0.000000</td>\n",
       "      <td>1.00000</td>\n",
       "      <td>107.000000</td>\n",
       "    </tr>\n",
       "    <tr>\n",
       "      <th>25%</th>\n",
       "      <td>40.000000</td>\n",
       "      <td>28.000000</td>\n",
       "      <td>0.000000</td>\n",
       "      <td>0.000000</td>\n",
       "      <td>9.00000</td>\n",
       "      <td>13200.000000</td>\n",
       "    </tr>\n",
       "    <tr>\n",
       "      <th>50%</th>\n",
       "      <td>40.000000</td>\n",
       "      <td>37.000000</td>\n",
       "      <td>0.000000</td>\n",
       "      <td>0.000000</td>\n",
       "      <td>10.00000</td>\n",
       "      <td>27260.000000</td>\n",
       "    </tr>\n",
       "    <tr>\n",
       "      <th>75%</th>\n",
       "      <td>45.000000</td>\n",
       "      <td>47.000000</td>\n",
       "      <td>0.000000</td>\n",
       "      <td>0.000000</td>\n",
       "      <td>12.00000</td>\n",
       "      <td>49515.000000</td>\n",
       "    </tr>\n",
       "    <tr>\n",
       "      <th>max</th>\n",
       "      <td>99.000000</td>\n",
       "      <td>90.000000</td>\n",
       "      <td>99999.000000</td>\n",
       "      <td>4356.000000</td>\n",
       "      <td>16.00000</td>\n",
       "      <td>99999.000000</td>\n",
       "    </tr>\n",
       "  </tbody>\n",
       "</table>\n",
       "</div>"
      ],
      "text/plain": [
       "       hours-per-week           age  capital-gain  capital-loss  \\\n",
       "count    45641.000000  45641.000000  45641.000000  45641.000000   \n",
       "mean        40.915120     38.487566   1080.570759     87.546307   \n",
       "std         11.966191     13.211451   7426.000706    402.596785   \n",
       "min          1.000000     17.000000      0.000000      0.000000   \n",
       "25%         40.000000     28.000000      0.000000      0.000000   \n",
       "50%         40.000000     37.000000      0.000000      0.000000   \n",
       "75%         45.000000     47.000000      0.000000      0.000000   \n",
       "max         99.000000     90.000000  99999.000000   4356.000000   \n",
       "\n",
       "       education-num        income  \n",
       "count    45641.00000  45641.000000  \n",
       "mean        10.10438  34417.740606  \n",
       "std          2.54683  26870.885616  \n",
       "min          1.00000    107.000000  \n",
       "25%          9.00000  13200.000000  \n",
       "50%         10.00000  27260.000000  \n",
       "75%         12.00000  49515.000000  \n",
       "max         16.00000  99999.000000  "
      ]
     },
     "execution_count": 38,
     "metadata": {},
     "output_type": "execute_result"
    }
   ],
   "source": [
    "print(df.shape)\n",
    "df.describe()"
   ]
  },
  {
   "cell_type": "code",
   "execution_count": 39,
   "metadata": {},
   "outputs": [
    {
     "data": {
      "text/plain": [
       "{'Prof-specialty': 1,\n",
       " 'Protective-serv': 2,\n",
       " 'Exec-managerial': 3,\n",
       " 'Sales': 4,\n",
       " 'Armed-Forces': 5,\n",
       " 'Machine-op-inspct': 6,\n",
       " 'Tech-support': 7,\n",
       " 'Transport-moving': 8,\n",
       " 'Handlers-cleaners': 9,\n",
       " 'Farming-fishing': 10,\n",
       " 'Craft-repair': 11,\n",
       " 'Priv-house-serv': 12,\n",
       " 'Other-service': 13,\n",
       " 'Adm-clerical': 14}"
      ]
     },
     "execution_count": 39,
     "metadata": {},
     "output_type": "execute_result"
    }
   ],
   "source": [
    "#Encode the occupations into numbers for the plot below\n",
    "dictt = dict()\n",
    "count = 1\n",
    "for k in list(set(list(df['occupation']))):\n",
    "    dictt[k]=count\n",
    "    count+=1\n",
    "dictt"
   ]
  },
  {
   "cell_type": "code",
   "execution_count": 40,
   "metadata": {},
   "outputs": [],
   "source": [
    "newdf = df.copy()\n",
    "for d in dictt:\n",
    "    newdf=newdf.replace(d, dictt[d])"
   ]
  },
  {
   "cell_type": "code",
   "execution_count": 41,
   "metadata": {},
   "outputs": [
    {
     "data": {
      "text/plain": [
       "<seaborn.axisgrid.FacetGrid at 0x22d8aa94b88>"
      ]
     },
     "execution_count": 41,
     "metadata": {},
     "output_type": "execute_result"
    },
    {
     "data": {
      "image/png": "[encoded data removed]",
      "text/plain": [
       "<Figure size 432.625x360 with 1 Axes>"
      ]
     },
     "metadata": {
      "needs_background": "light"
     },
     "output_type": "display_data"
    }
   ],
   "source": [
    "## EDA HERE \n",
    "## cat plot of occupation and gender\n",
    "## we need to show the x label better maybe with numbers\n",
    "sns.catplot(data=newdf, kind=\"bar\", x=\"occupation\", y=\"income\", hue=\"gender\")"
   ]
  },
  {
   "cell_type": "code",
   "execution_count": 42,
   "metadata": {
    "tags": []
   },
   "outputs": [
    {
     "data": {
      "text/plain": [
       "<seaborn.axisgrid.FacetGrid at 0x22d8aa86508>"
      ]
     },
     "execution_count": 42,
     "metadata": {},
     "output_type": "execute_result"
    },
    {
     "data": {
      "image/png": "[encoded data removed]",
      "text/plain": [
       "<Figure size 432.625x360 with 1 Axes>"
      ]
     },
     "metadata": {
      "needs_background": "light"
     },
     "output_type": "display_data"
    }
   ],
   "source": [
    "## cat plot of hours and gender\n",
    "# We can see that men usually work more. To better visualize this, a histplot has been contstructed below\n",
    "sns.catplot(data=newdf, kind=\"bar\", x=\"occupation\", y=\"hours-per-week\", hue=\"gender\")"
   ]
  },
  {
   "cell_type": "code",
   "execution_count": 21,
   "metadata": {},
   "outputs": [
    {
     "name": "stdout",
     "output_type": "stream",
     "text": [
      "99497.03015075377\n"
     ]
    },
    {
     "data": {
      "image/png": "[encoded data removed]",
      "text/plain": [
       "<Figure size 432x288 with 1 Axes>"
      ]
     },
     "metadata": {
      "needs_background": "light"
     },
     "output_type": "display_data"
    }
   ],
   "source": [
    "ax = sns.histplot(df['income'], bins=70, kde=True)\n",
    "\n",
    "kdeline = ax.lines[0]\n",
    "xs = kdeline.get_xdata()\n",
    "ys = kdeline.get_ydata()\n",
    "\n",
    "##The last bin to remove\n",
    "print(xs[-2])"
   ]
  },
  {
   "cell_type": "code",
   "execution_count": 22,
   "metadata": {},
   "outputs": [
    {
     "data": {
      "text/plain": [
       "<matplotlib.axes._subplots.AxesSubplot at 0x2a69b923848>"
      ]
     },
     "execution_count": 22,
     "metadata": {},
     "output_type": "execute_result"
    },
    {
     "data": {
      "image/png": "[encoded data removed]",
      "text/plain": [
       "<Figure size 432x288 with 1 Axes>"
      ]
     },
     "metadata": {
      "needs_background": "light"
     },
     "output_type": "display_data"
    }
   ],
   "source": [
    "sns.histplot(df['hours-per-week'])\n",
    "# we need to decrease the number of bins to better understand the plot"
   ]
  },
  {
   "cell_type": "code",
   "execution_count": 23,
   "metadata": {},
   "outputs": [
    {
     "data": {
      "text/plain": [
       "<matplotlib.axes._subplots.AxesSubplot at 0x2a69c55e788>"
      ]
     },
     "execution_count": 23,
     "metadata": {},
     "output_type": "execute_result"
    },
    {
     "data": {
      "image/png": "[encoded data removed]",
      "text/plain": [
       "<Figure size 432x288 with 1 Axes>"
      ]
     },
     "metadata": {
      "needs_background": "light"
     },
     "output_type": "display_data"
    }
   ],
   "source": [
    "sns.histplot(data=df, x=\"hours-per-week\", bins=15, hue='gender')\n",
    "#Here we can see the differnece in the hours worked per week between the 2 genders\n",
    "# we can also see that there are outliers that need to be removed\n",
    "# It has 2-3 modes"
   ]
  },
  {
   "cell_type": "code",
   "execution_count": 24,
   "metadata": {},
   "outputs": [
    {
     "data": {
      "text/plain": [
       "<matplotlib.axes._subplots.AxesSubplot at 0x2a69b97ba08>"
      ]
     },
     "execution_count": 24,
     "metadata": {},
     "output_type": "execute_result"
    },
    {
     "data": {
      "image/png": "[encoded data removed]",
      "text/plain": [
       "<Figure size 432x288 with 1 Axes>"
      ]
     },
     "metadata": {
      "needs_background": "light"
     },
     "output_type": "display_data"
    }
   ],
   "source": [
    "sns.histplot(data=df, x=\"age\", hue=\"gender\")\n",
    "# It clearly has 2 modes"
   ]
  },
  {
   "cell_type": "code",
   "execution_count": 25,
   "metadata": {},
   "outputs": [
    {
     "data": {
      "text/plain": [
       "<matplotlib.axes._subplots.AxesSubplot at 0x2a69c74b5c8>"
      ]
     },
     "execution_count": 25,
     "metadata": {},
     "output_type": "execute_result"
    },
    {
     "data": {
      "image/png": "[encoded data removed]",
      "text/plain": [
       "<Figure size 432x288 with 1 Axes>"
      ]
     },
     "metadata": {
      "needs_background": "light"
     },
     "output_type": "display_data"
    }
   ],
   "source": [
    "sns.histplot(data=df, x=\"income\", hue=\"gender\")"
   ]
  },
  {
   "cell_type": "markdown",
   "metadata": {},
   "source": [
    "### Check for Outliers"
   ]
  },
  {
   "cell_type": "code",
   "execution_count": 26,
   "metadata": {},
   "outputs": [],
   "source": [
    "def remove_outliers_sd(data, variable):\n",
    "\n",
    "    return data.loc[(np.abs(stats.zscore(data[variable])) < 3)]"
   ]
  },
  {
   "cell_type": "code",
   "execution_count": 27,
   "metadata": {},
   "outputs": [],
   "source": [
    "def remove_outliers_bound(data, variable, lower=-np.inf, upper=np.inf):\n",
    "\n",
    "    return data.loc[(data[variable] > lower) & (data[variable] < upper)]"
   ]
  },
  {
   "cell_type": "code",
   "execution_count": 28,
   "metadata": {},
   "outputs": [
    {
     "data": {
      "text/plain": [
       "<matplotlib.axes._subplots.AxesSubplot at 0x2a6989dd688>"
      ]
     },
     "execution_count": 28,
     "metadata": {},
     "output_type": "execute_result"
    },
    {
     "data": {
      "image/png": "[encoded data removed]",
      "text/plain": [
       "<Figure size 432x288 with 1 Axes>"
      ]
     },
     "metadata": {
      "needs_background": "light"
     },
     "output_type": "display_data"
    }
   ],
   "source": [
    "# plot to see how removing the outlier has affected the data\n",
    "df = remove_outliers_sd(df, \"hours-per-week\")\n",
    "sns.histplot(data=df, x=\"hours-per-week\", bins=15, hue='gender')"
   ]
  },
  {
   "cell_type": "code",
   "execution_count": 29,
   "metadata": {},
   "outputs": [
    {
     "data": {
      "text/plain": [
       "<matplotlib.axes._subplots.AxesSubplot at 0x2a69c8d44c8>"
      ]
     },
     "execution_count": 29,
     "metadata": {},
     "output_type": "execute_result"
    },
    {
     "data": {
      "image/png": "[encoded data removed]",
      "text/plain": [
       "<Figure size 432x288 with 1 Axes>"
      ]
     },
     "metadata": {
      "needs_background": "light"
     },
     "output_type": "display_data"
    }
   ],
   "source": [
    "## removing the people who earn more than  99497 \n",
    "df = remove_outliers_bound(df, 'income', upper = 99497)\n",
    "sns.histplot(df['income'])"
   ]
  },
  {
   "cell_type": "markdown",
   "metadata": {},
   "source": [
    "### Decode categorical data"
   ]
  },
  {
   "cell_type": "markdown",
   "metadata": {},
   "source": [
    "###### Create dummy values for all categorical data"
   ]
  },
  {
   "cell_type": "code",
   "execution_count": 30,
   "metadata": {},
   "outputs": [
    {
     "data": {
      "text/html": [
       "<div>\n",
       "<style scoped>\n",
       "    .dataframe tbody tr th:only-of-type {\n",
       "        vertical-align: middle;\n",
       "    }\n",
       "\n",
       "    .dataframe tbody tr th {\n",
       "        vertical-align: top;\n",
       "    }\n",
       "\n",
       "    .dataframe thead th {\n",
       "        text-align: right;\n",
       "    }\n",
       "</style>\n",
       "<table border=\"1\" class=\"dataframe\">\n",
       "  <thead>\n",
       "    <tr style=\"text-align: right;\">\n",
       "      <th></th>\n",
       "      <th>hours-per-week</th>\n",
       "      <th>age</th>\n",
       "      <th>capital-gain</th>\n",
       "      <th>capital-loss</th>\n",
       "      <th>education-num</th>\n",
       "      <th>income</th>\n",
       "      <th>workclass_Federal-gov</th>\n",
       "      <th>workclass_Local-gov</th>\n",
       "      <th>workclass_Private</th>\n",
       "      <th>workclass_Self-emp-inc</th>\n",
       "      <th>...</th>\n",
       "      <th>occupation_Machine-op-inspct</th>\n",
       "      <th>occupation_Other-service</th>\n",
       "      <th>occupation_Priv-house-serv</th>\n",
       "      <th>occupation_Prof-specialty</th>\n",
       "      <th>occupation_Protective-serv</th>\n",
       "      <th>occupation_Sales</th>\n",
       "      <th>occupation_Tech-support</th>\n",
       "      <th>occupation_Transport-moving</th>\n",
       "      <th>gender_Female</th>\n",
       "      <th>gender_Male</th>\n",
       "    </tr>\n",
       "  </thead>\n",
       "  <tbody>\n",
       "    <tr>\n",
       "      <th>0</th>\n",
       "      <td>20</td>\n",
       "      <td>40</td>\n",
       "      <td>0</td>\n",
       "      <td>0</td>\n",
       "      <td>13</td>\n",
       "      <td>49100</td>\n",
       "      <td>0</td>\n",
       "      <td>0</td>\n",
       "      <td>1</td>\n",
       "      <td>0</td>\n",
       "      <td>...</td>\n",
       "      <td>0</td>\n",
       "      <td>0</td>\n",
       "      <td>0</td>\n",
       "      <td>0</td>\n",
       "      <td>0</td>\n",
       "      <td>0</td>\n",
       "      <td>1</td>\n",
       "      <td>0</td>\n",
       "      <td>1</td>\n",
       "      <td>0</td>\n",
       "    </tr>\n",
       "    <tr>\n",
       "      <th>1</th>\n",
       "      <td>40</td>\n",
       "      <td>21</td>\n",
       "      <td>0</td>\n",
       "      <td>0</td>\n",
       "      <td>10</td>\n",
       "      <td>11500</td>\n",
       "      <td>0</td>\n",
       "      <td>0</td>\n",
       "      <td>1</td>\n",
       "      <td>0</td>\n",
       "      <td>...</td>\n",
       "      <td>0</td>\n",
       "      <td>0</td>\n",
       "      <td>0</td>\n",
       "      <td>0</td>\n",
       "      <td>0</td>\n",
       "      <td>0</td>\n",
       "      <td>0</td>\n",
       "      <td>0</td>\n",
       "      <td>0</td>\n",
       "      <td>1</td>\n",
       "    </tr>\n",
       "    <tr>\n",
       "      <th>2</th>\n",
       "      <td>10</td>\n",
       "      <td>17</td>\n",
       "      <td>0</td>\n",
       "      <td>0</td>\n",
       "      <td>7</td>\n",
       "      <td>2600</td>\n",
       "      <td>0</td>\n",
       "      <td>0</td>\n",
       "      <td>1</td>\n",
       "      <td>0</td>\n",
       "      <td>...</td>\n",
       "      <td>0</td>\n",
       "      <td>1</td>\n",
       "      <td>0</td>\n",
       "      <td>0</td>\n",
       "      <td>0</td>\n",
       "      <td>0</td>\n",
       "      <td>0</td>\n",
       "      <td>0</td>\n",
       "      <td>0</td>\n",
       "      <td>1</td>\n",
       "    </tr>\n",
       "    <tr>\n",
       "      <th>3</th>\n",
       "      <td>50</td>\n",
       "      <td>51</td>\n",
       "      <td>0</td>\n",
       "      <td>0</td>\n",
       "      <td>9</td>\n",
       "      <td>38997</td>\n",
       "      <td>0</td>\n",
       "      <td>0</td>\n",
       "      <td>1</td>\n",
       "      <td>0</td>\n",
       "      <td>...</td>\n",
       "      <td>0</td>\n",
       "      <td>0</td>\n",
       "      <td>0</td>\n",
       "      <td>0</td>\n",
       "      <td>0</td>\n",
       "      <td>1</td>\n",
       "      <td>0</td>\n",
       "      <td>0</td>\n",
       "      <td>0</td>\n",
       "      <td>1</td>\n",
       "    </tr>\n",
       "    <tr>\n",
       "      <th>5</th>\n",
       "      <td>38</td>\n",
       "      <td>26</td>\n",
       "      <td>0</td>\n",
       "      <td>1876</td>\n",
       "      <td>13</td>\n",
       "      <td>38524</td>\n",
       "      <td>0</td>\n",
       "      <td>0</td>\n",
       "      <td>1</td>\n",
       "      <td>0</td>\n",
       "      <td>...</td>\n",
       "      <td>0</td>\n",
       "      <td>0</td>\n",
       "      <td>0</td>\n",
       "      <td>0</td>\n",
       "      <td>0</td>\n",
       "      <td>0</td>\n",
       "      <td>0</td>\n",
       "      <td>0</td>\n",
       "      <td>0</td>\n",
       "      <td>1</td>\n",
       "    </tr>\n",
       "  </tbody>\n",
       "</table>\n",
       "<p>5 rows × 104 columns</p>\n",
       "</div>"
      ],
      "text/plain": [
       "   hours-per-week  age  capital-gain  capital-loss  education-num  income  \\\n",
       "0              20   40             0             0             13   49100   \n",
       "1              40   21             0             0             10   11500   \n",
       "2              10   17             0             0              7    2600   \n",
       "3              50   51             0             0              9   38997   \n",
       "5              38   26             0          1876             13   38524   \n",
       "\n",
       "   workclass_Federal-gov  workclass_Local-gov  workclass_Private  \\\n",
       "0                      0                    0                  1   \n",
       "1                      0                    0                  1   \n",
       "2                      0                    0                  1   \n",
       "3                      0                    0                  1   \n",
       "5                      0                    0                  1   \n",
       "\n",
       "   workclass_Self-emp-inc  ...  occupation_Machine-op-inspct  \\\n",
       "0                       0  ...                             0   \n",
       "1                       0  ...                             0   \n",
       "2                       0  ...                             0   \n",
       "3                       0  ...                             0   \n",
       "5                       0  ...                             0   \n",
       "\n",
       "   occupation_Other-service  occupation_Priv-house-serv  \\\n",
       "0                         0                           0   \n",
       "1                         0                           0   \n",
       "2                         1                           0   \n",
       "3                         0                           0   \n",
       "5                         0                           0   \n",
       "\n",
       "   occupation_Prof-specialty  occupation_Protective-serv  occupation_Sales  \\\n",
       "0                          0                           0                 0   \n",
       "1                          0                           0                 0   \n",
       "2                          0                           0                 0   \n",
       "3                          0                           0                 1   \n",
       "5                          0                           0                 0   \n",
       "\n",
       "   occupation_Tech-support  occupation_Transport-moving  gender_Female  \\\n",
       "0                        1                            0              1   \n",
       "1                        0                            0              0   \n",
       "2                        0                            0              0   \n",
       "3                        0                            0              0   \n",
       "5                        0                            0              0   \n",
       "\n",
       "   gender_Male  \n",
       "0            0  \n",
       "1            1  \n",
       "2            1  \n",
       "3            1  \n",
       "5            1  \n",
       "\n",
       "[5 rows x 104 columns]"
      ]
     },
     "execution_count": 30,
     "metadata": {},
     "output_type": "execute_result"
    }
   ],
   "source": [
    "to_drop = [\"workclass\", \"education\", \"marital-status\", \"relationship\", \"race\", \"native-country\", \"occupation\", \"gender\"]\n",
    "dummy_vars = pd.get_dummies(df[to_drop])\n",
    "dfWithDummy = pd.concat([df.drop(to_drop, axis=1), dummy_vars], axis = 1)\n",
    "dfWithDummy.head()"
   ]
  },
  {
   "cell_type": "markdown",
   "metadata": {},
   "source": [
    "### Making the preprocessing pipeline"
   ]
  },
  {
   "cell_type": "code",
   "execution_count": 31,
   "metadata": {},
   "outputs": [],
   "source": [
    "def select_columns(data, *columns):\n",
    "    all_columns = []\n",
    "\n",
    "    for val in data.columns:\n",
    "        if val.startswith(columns):\n",
    "            all_columns.append(val)\n",
    "\n",
    "    return data.reindex(columns = all_columns)"
   ]
  },
  {
   "cell_type": "code",
   "execution_count": 32,
   "metadata": {},
   "outputs": [],
   "source": [
    "def standardize_columns(data,epsilon=1e-100):\n",
    "    '''\n",
    "    Input:\n",
    "      data (data frame): contains only numeric columns\n",
    "    Output:\n",
    "      data frame, the same data, except each column is standardized \n",
    "      to have 0-mean and unit variance\n",
    "    '''\n",
    "    #your code goes here\n",
    "    standardized_data = (data - np.mean(data))/(np.std(data) + epsilon)\n",
    "    return standardized_data"
   ]
  },
  {
   "cell_type": "code",
   "execution_count": 33,
   "metadata": {},
   "outputs": [
    {
     "data": {
      "text/plain": [
       "Index(['hours-per-week', 'age', 'capital-gain', 'capital-loss', 'workclass',\n",
       "       'education', 'education-num', 'marital-status', 'relationship', 'race',\n",
       "       'gender', 'native-country', 'income', 'occupation'],\n",
       "      dtype='object')"
      ]
     },
     "execution_count": 33,
     "metadata": {},
     "output_type": "execute_result"
    }
   ],
   "source": [
    "df.columns"
   ]
  },
  {
   "cell_type": "code",
   "execution_count": 34,
   "metadata": {},
   "outputs": [],
   "source": [
    "def process_data(data):\n",
    "    data['workclass'] = data['workclass'].replace('?', np.nan)\n",
    "    data['occupation'] = data['occupation'].replace('?', np.nan)\n",
    "    data['native-country'] = data['native-country'].replace('?', np.nan)\n",
    "    data.dropna(how='any', inplace=True)\n",
    "    data = data.drop_duplicates()\n",
    "    to_drop = [\"workclass\", \"education\", \"marital-status\", \"relationship\", \"race\", \"native-country\", \"occupation\", \"gender\"]\n",
    "    dummy_vars = pd.get_dummies(data[to_drop])\n",
    "    data = pd.concat([data.drop(to_drop, axis=1), dummy_vars], axis = 1)\n",
    "    # display(data)\n",
    "\n",
    "    data = (\n",
    "        data\n",
    "        # Clean Data\n",
    "        # remove hours-per-week outliers (681 outliers)\n",
    "        .pipe(remove_outliers_sd, 'hours-per-week')\n",
    "        ## removing the people who earn more than  99497 \n",
    "        .pipe(remove_outliers_bound, 'income', upper =99497 )\n",
    "\n",
    "        \n",
    "        # Transform data\n",
    "\n",
    "        .pipe(select_columns, \n",
    "              'age',           \n",
    "              'capital-gain',                       \n",
    "              'education-num', \n",
    "              'workclass',\n",
    "              'income'\n",
    "             )\n",
    "    ) \n",
    "    \n",
    "    \n",
    "    # Return predictor and response variables separately\n",
    "    X = standardize_columns(data).drop(['income'], axis = 1)\n",
    "    y = data['income']\n",
    "    \n",
    "    return X, y"
   ]
  },
  {
   "cell_type": "code",
   "execution_count": 35,
   "metadata": {},
   "outputs": [],
   "source": [
    "main_df = pd.read_csv('adult_reconstruction.csv')\n",
    "X, y = process_data(main_df)\n",
    "X_train, X_test, y_train, y_test = train_test_split(X, y, test_size=0.33, random_state=42)"
   ]
  },
  {
   "cell_type": "code",
   "execution_count": 36,
   "metadata": {},
   "outputs": [
    {
     "data": {
      "text/html": [
       "<div>\n",
       "<style scoped>\n",
       "    .dataframe tbody tr th:only-of-type {\n",
       "        vertical-align: middle;\n",
       "    }\n",
       "\n",
       "    .dataframe tbody tr th {\n",
       "        vertical-align: top;\n",
       "    }\n",
       "\n",
       "    .dataframe thead th {\n",
       "        text-align: right;\n",
       "    }\n",
       "</style>\n",
       "<table border=\"1\" class=\"dataframe\">\n",
       "  <thead>\n",
       "    <tr style=\"text-align: right;\">\n",
       "      <th></th>\n",
       "      <th>age</th>\n",
       "      <th>capital-gain</th>\n",
       "      <th>education-num</th>\n",
       "      <th>workclass_Federal-gov</th>\n",
       "      <th>workclass_Local-gov</th>\n",
       "      <th>workclass_Private</th>\n",
       "      <th>workclass_Self-emp-inc</th>\n",
       "      <th>workclass_Self-emp-not-inc</th>\n",
       "      <th>workclass_State-gov</th>\n",
       "      <th>workclass_Without-pay</th>\n",
       "    </tr>\n",
       "  </thead>\n",
       "  <tbody>\n",
       "    <tr>\n",
       "      <th>17501</th>\n",
       "      <td>1.062265</td>\n",
       "      <td>-0.223267</td>\n",
       "      <td>-1.598640</td>\n",
       "      <td>-0.178656</td>\n",
       "      <td>-0.272470</td>\n",
       "      <td>-1.733375</td>\n",
       "      <td>-0.170042</td>\n",
       "      <td>3.450053</td>\n",
       "      <td>-0.213459</td>\n",
       "      <td>-0.022163</td>\n",
       "    </tr>\n",
       "    <tr>\n",
       "      <th>29848</th>\n",
       "      <td>-0.684635</td>\n",
       "      <td>-0.223267</td>\n",
       "      <td>0.818235</td>\n",
       "      <td>-0.178656</td>\n",
       "      <td>-0.272470</td>\n",
       "      <td>0.576909</td>\n",
       "      <td>-0.170042</td>\n",
       "      <td>-0.289851</td>\n",
       "      <td>-0.213459</td>\n",
       "      <td>-0.022163</td>\n",
       "    </tr>\n",
       "    <tr>\n",
       "      <th>46526</th>\n",
       "      <td>0.758457</td>\n",
       "      <td>-0.223267</td>\n",
       "      <td>0.012610</td>\n",
       "      <td>-0.178656</td>\n",
       "      <td>-0.272470</td>\n",
       "      <td>0.576909</td>\n",
       "      <td>-0.170042</td>\n",
       "      <td>-0.289851</td>\n",
       "      <td>-0.213459</td>\n",
       "      <td>-0.022163</td>\n",
       "    </tr>\n",
       "    <tr>\n",
       "      <th>5310</th>\n",
       "      <td>-0.684635</td>\n",
       "      <td>-0.223267</td>\n",
       "      <td>-0.390203</td>\n",
       "      <td>-0.178656</td>\n",
       "      <td>3.670135</td>\n",
       "      <td>-1.733375</td>\n",
       "      <td>-0.170042</td>\n",
       "      <td>-0.289851</td>\n",
       "      <td>-0.213459</td>\n",
       "      <td>-0.022163</td>\n",
       "    </tr>\n",
       "    <tr>\n",
       "      <th>47321</th>\n",
       "      <td>0.834409</td>\n",
       "      <td>-0.223267</td>\n",
       "      <td>0.818235</td>\n",
       "      <td>-0.178656</td>\n",
       "      <td>-0.272470</td>\n",
       "      <td>0.576909</td>\n",
       "      <td>-0.170042</td>\n",
       "      <td>-0.289851</td>\n",
       "      <td>-0.213459</td>\n",
       "      <td>-0.022163</td>\n",
       "    </tr>\n",
       "    <tr>\n",
       "      <th>...</th>\n",
       "      <td>...</td>\n",
       "      <td>...</td>\n",
       "      <td>...</td>\n",
       "      <td>...</td>\n",
       "      <td>...</td>\n",
       "      <td>...</td>\n",
       "      <td>...</td>\n",
       "      <td>...</td>\n",
       "      <td>...</td>\n",
       "      <td>...</td>\n",
       "    </tr>\n",
       "    <tr>\n",
       "      <th>7435</th>\n",
       "      <td>0.226791</td>\n",
       "      <td>-0.223267</td>\n",
       "      <td>1.623860</td>\n",
       "      <td>-0.178656</td>\n",
       "      <td>-0.272470</td>\n",
       "      <td>-1.733375</td>\n",
       "      <td>5.880889</td>\n",
       "      <td>-0.289851</td>\n",
       "      <td>-0.213459</td>\n",
       "      <td>-0.022163</td>\n",
       "    </tr>\n",
       "    <tr>\n",
       "      <th>13354</th>\n",
       "      <td>1.669883</td>\n",
       "      <td>-0.223267</td>\n",
       "      <td>-1.195828</td>\n",
       "      <td>-0.178656</td>\n",
       "      <td>-0.272470</td>\n",
       "      <td>0.576909</td>\n",
       "      <td>-0.170042</td>\n",
       "      <td>-0.289851</td>\n",
       "      <td>-0.213459</td>\n",
       "      <td>-0.022163</td>\n",
       "    </tr>\n",
       "    <tr>\n",
       "      <th>43997</th>\n",
       "      <td>-1.140348</td>\n",
       "      <td>-0.223267</td>\n",
       "      <td>0.012610</td>\n",
       "      <td>-0.178656</td>\n",
       "      <td>-0.272470</td>\n",
       "      <td>0.576909</td>\n",
       "      <td>-0.170042</td>\n",
       "      <td>-0.289851</td>\n",
       "      <td>-0.213459</td>\n",
       "      <td>-0.022163</td>\n",
       "    </tr>\n",
       "    <tr>\n",
       "      <th>959</th>\n",
       "      <td>-0.684635</td>\n",
       "      <td>-0.223267</td>\n",
       "      <td>0.012610</td>\n",
       "      <td>-0.178656</td>\n",
       "      <td>-0.272470</td>\n",
       "      <td>0.576909</td>\n",
       "      <td>-0.170042</td>\n",
       "      <td>-0.289851</td>\n",
       "      <td>-0.213459</td>\n",
       "      <td>-0.022163</td>\n",
       "    </tr>\n",
       "    <tr>\n",
       "      <th>18493</th>\n",
       "      <td>-0.608683</td>\n",
       "      <td>-0.223267</td>\n",
       "      <td>1.221048</td>\n",
       "      <td>-0.178656</td>\n",
       "      <td>-0.272470</td>\n",
       "      <td>0.576909</td>\n",
       "      <td>-0.170042</td>\n",
       "      <td>-0.289851</td>\n",
       "      <td>-0.213459</td>\n",
       "      <td>-0.022163</td>\n",
       "    </tr>\n",
       "  </tbody>\n",
       "</table>\n",
       "<p>28657 rows × 10 columns</p>\n",
       "</div>"
      ],
      "text/plain": [
       "            age  capital-gain  education-num  workclass_Federal-gov  \\\n",
       "17501  1.062265     -0.223267      -1.598640              -0.178656   \n",
       "29848 -0.684635     -0.223267       0.818235              -0.178656   \n",
       "46526  0.758457     -0.223267       0.012610              -0.178656   \n",
       "5310  -0.684635     -0.223267      -0.390203              -0.178656   \n",
       "47321  0.834409     -0.223267       0.818235              -0.178656   \n",
       "...         ...           ...            ...                    ...   \n",
       "7435   0.226791     -0.223267       1.623860              -0.178656   \n",
       "13354  1.669883     -0.223267      -1.195828              -0.178656   \n",
       "43997 -1.140348     -0.223267       0.012610              -0.178656   \n",
       "959   -0.684635     -0.223267       0.012610              -0.178656   \n",
       "18493 -0.608683     -0.223267       1.221048              -0.178656   \n",
       "\n",
       "       workclass_Local-gov  workclass_Private  workclass_Self-emp-inc  \\\n",
       "17501            -0.272470          -1.733375               -0.170042   \n",
       "29848            -0.272470           0.576909               -0.170042   \n",
       "46526            -0.272470           0.576909               -0.170042   \n",
       "5310              3.670135          -1.733375               -0.170042   \n",
       "47321            -0.272470           0.576909               -0.170042   \n",
       "...                    ...                ...                     ...   \n",
       "7435             -0.272470          -1.733375                5.880889   \n",
       "13354            -0.272470           0.576909               -0.170042   \n",
       "43997            -0.272470           0.576909               -0.170042   \n",
       "959              -0.272470           0.576909               -0.170042   \n",
       "18493            -0.272470           0.576909               -0.170042   \n",
       "\n",
       "       workclass_Self-emp-not-inc  workclass_State-gov  workclass_Without-pay  \n",
       "17501                    3.450053            -0.213459              -0.022163  \n",
       "29848                   -0.289851            -0.213459              -0.022163  \n",
       "46526                   -0.289851            -0.213459              -0.022163  \n",
       "5310                    -0.289851            -0.213459              -0.022163  \n",
       "47321                   -0.289851            -0.213459              -0.022163  \n",
       "...                           ...                  ...                    ...  \n",
       "7435                    -0.289851            -0.213459              -0.022163  \n",
       "13354                   -0.289851            -0.213459              -0.022163  \n",
       "43997                   -0.289851            -0.213459              -0.022163  \n",
       "959                     -0.289851            -0.213459              -0.022163  \n",
       "18493                   -0.289851            -0.213459              -0.022163  \n",
       "\n",
       "[28657 rows x 10 columns]"
      ]
     },
     "metadata": {},
     "output_type": "display_data"
    }
   ],
   "source": [
    "display(X_train)"
   ]
  },
  {
   "cell_type": "code",
   "execution_count": 37,
   "metadata": {},
   "outputs": [],
   "source": [
    "from sklearn import linear_model as lm\n",
    "alphas = np.arange(0.1, 200.1, .1)\n",
    "final_model = lm.LassoCV(alphas=alphas,cv=5, max_iter = 10000)"
   ]
  },
  {
   "cell_type": "code",
   "execution_count": 38,
   "metadata": {},
   "outputs": [
    {
     "data": {
      "text/plain": [
       "LassoCV(alphas=array([1.000e-01, 2.000e-01, 3.000e-01, ..., 1.998e+02, 1.999e+02,\n",
       "       2.000e+02]),\n",
       "        cv=5, max_iter=10000)"
      ]
     },
     "execution_count": 38,
     "metadata": {},
     "output_type": "execute_result"
    }
   ],
   "source": [
    "final_model.fit(X_train, y_train)"
   ]
  },
  {
   "cell_type": "code",
   "execution_count": 39,
   "metadata": {},
   "outputs": [],
   "source": [
    "def rmse(actual, predicted):\n",
    "    \"\"\"\n",
    "    Calculates RMSE from actual and predicted values\n",
    "    Input:\n",
    "      actual (1D array-like): vector of actual values\n",
    "      predicted (1D array-like): vector of predicted/fitted values\n",
    "    Output:\n",
    "      a float, the root-mean square error\n",
    "    \"\"\"\n",
    "    rmse = np.sqrt(np.mean((actual - predicted)**2))\n",
    "    return rmse"
   ]
  },
  {
   "cell_type": "code",
   "execution_count": 41,
   "metadata": {},
   "outputs": [],
   "source": [
    "y_predicted_train = final_model.predict(X_train)\n",
    "y_predicted_test = final_model.predict(X_test)"
   ]
  },
  {
   "cell_type": "code",
   "execution_count": 42,
   "metadata": {},
   "outputs": [
    {
     "name": "stdout",
     "output_type": "stream",
     "text": [
      "RMSE Train:  19389.48369515792  RMSE Test:  19548.275037436888\n"
     ]
    }
   ],
   "source": [
    "train_score = rmse(y_predicted_train, y_train)\n",
    "test_score = rmse(y_predicted_test, y_test)\n",
    "\n",
    "print(\"RMSE Train: \", train_score, \" RMSE Test: \", test_score)"
   ]
  },
  {
   "cell_type": "code",
   "execution_count": null,
   "metadata": {},
   "outputs": [],
   "source": []
  }
 ],
 "metadata": {
  "kernelspec": {
   "display_name": "Python 3",
   "language": "python",
   "name": "python3"
  },
  "language_info": {
   "codemirror_mode": {
    "name": "ipython",
    "version": 3
   },
   "file_extension": ".py",
   "mimetype": "text/x-python",
   "name": "python",
   "nbconvert_exporter": "python",
   "pygments_lexer": "ipython3",
   "version": "3.7.6"
  }
 },
 "nbformat": 4,
 "nbformat_minor": 4
}
